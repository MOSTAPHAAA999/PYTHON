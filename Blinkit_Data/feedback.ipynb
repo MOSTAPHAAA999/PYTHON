{
 "cells": [
  {
   "cell_type": "code",
   "execution_count": 2,
   "metadata": {},
   "outputs": [
    {
     "name": "stdout",
     "output_type": "stream",
     "text": [
      "Loaded 9 CSV files: ['blinkit_customers', 'blinkit_customer_feedback', 'blinkit_delivery_performance', 'blinkit_inventory', 'blinkit_inventoryNew', 'blinkit_marketing_performance', 'blinkit_orders', 'blinkit_order_items', 'blinkit_products']\n",
      "     order_id  delivery_partner_id        promised_time          actual_time  \\\n",
      "0  1961864118                63230  2024-07-17 08:52:01  2024-07-17 08:47:01   \n",
      "1  1549769649                14983  2024-05-28 13:25:29  2024-05-28 13:27:29   \n",
      "2  9185164487                39859  2024-09-23 13:25:12  2024-09-23 13:29:12   \n",
      "3  9644738826                61497  2023-11-24 16:34:56  2023-11-24 16:33:56   \n",
      "4  5427684290                84315  2023-11-20 05:17:39  2023-11-20 05:18:39   \n",
      "\n",
      "   delivery_time_minutes  distance_km delivery_status reasons_if_delayed  \n",
      "0                   -5.0         0.96         On Time                NaN  \n",
      "1                    2.0         0.98         On Time            Traffic  \n",
      "2                    4.0         3.83         On Time            Traffic  \n",
      "3                   -1.0         2.76         On Time                NaN  \n",
      "4                    1.0         2.63         On Time            Traffic  \n",
      "<class 'dict'>\n"
     ]
    }
   ],
   "source": [
    "import pandas as pd\n",
    "import os\n",
    "import zipfile\n",
    "\n",
    "# Define the zip file path\n",
    "zip_file_path = \"/mnt/data/archive (13).zip\"\n",
    "extract_folder = \"/mnt/data/extracted_files\"\n",
    "\n",
    "# Extract the ZIP file\n",
    "with zipfile.ZipFile(r\"C:\\Users\\mosta\\Downloads\\archive (13).zip\", \"r\") as zip_ref:\n",
    "    zip_ref.extractall(extract_folder)\n",
    "\n",
    "# List all extracted files\n",
    "csv_files = [f for f in os.listdir(extract_folder) if f.endswith(\".csv\")]\n",
    "\n",
    "# Dictionary to store DataFrames\n",
    "dfs = {}\n",
    "\n",
    "# Read all CSV files into separate DataFrames\n",
    "for file in csv_files:\n",
    "    file_path = os.path.join(extract_folder, file)\n",
    "    df_name = file.replace(\".csv\", \"\")  # Use file name as key\n",
    "    dfs[df_name] = pd.read_csv(file_path)  # Read CSV file\n",
    "\n",
    "# Print loaded DataFrames\n",
    "print(f\"Loaded {len(dfs)} CSV files: {list(dfs.keys())}\")\n",
    "\n",
    "# Example: Display first 5 rows of a specific DataFrame\n",
    "print(dfs[\"blinkit_delivery_performance\"].head())  # Change based on available file names\n",
    "print(type(dfs))"
   ]
  },
  {
   "cell_type": "code",
   "execution_count": null,
   "metadata": {},
   "outputs": [],
   "source": []
  }
 ],
 "metadata": {
  "kernelspec": {
   "display_name": "ENVNAME",
   "language": "python",
   "name": "python3"
  },
  "language_info": {
   "codemirror_mode": {
    "name": "ipython",
    "version": 3
   },
   "file_extension": ".py",
   "mimetype": "text/x-python",
   "name": "python",
   "nbconvert_exporter": "python",
   "pygments_lexer": "ipython3",
   "version": "3.12.8"
  }
 },
 "nbformat": 4,
 "nbformat_minor": 2
}
